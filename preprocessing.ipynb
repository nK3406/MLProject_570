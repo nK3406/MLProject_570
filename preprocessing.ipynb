{
 "cells": [
  {
   "cell_type": "markdown",
   "metadata": {},
   "source": [
    "# HDF5 → Parquet Dönüşümü\n",
    "Bu notebook, HDF5 dosyasındaki bir dataset'i Parquet formatına dönüştürmek için örnek kullanım sunar."
   ]
  },
  {
   "cell_type": "code",
   "execution_count": null,
   "metadata": {},
   "outputs": [],
   "source": [
    "from pathlib import Path\n",
    "from src.utils.h5_utils import h5_to_parquet, list_h5_structure\n",
    "import pandas as pd\n"
   ]
  },
  {
   "cell_type": "markdown",
   "metadata": {},
   "source": [
    "## 1. HDF5 Dosya Yapısını İnceleyin\n",
    "Önce dosya içindeki veri yapısını keşfedin."
   ]
  },
  {
   "cell_type": "code",
   "execution_count": null,
   "metadata": {},
   "outputs": [],
   "source": [
    "h5_path = Path('veri/ornek.h5')  # HDF5 dosya yolunu güncelleyin\n",
    "list_h5_structure(h5_path)"
   ]
  },
  {
   "cell_type": "markdown",
   "metadata": {},
   "source": [
    "## 2. Dataset'i Parquet'e Dönüştürün\n",
    "Aşağıdaki örnekte, 'mygroup/mydataset' anahtarındaki veriler Parquet'e çevrilir. Kolon isimleri ve indeks sütunu opsiyoneldir. Büyük dosyalar için parça parça (chunk) okuma da yapılabilir."
   ]
  },
  {
   "cell_type": "code",
   "execution_count": null,
   "metadata": {},
   "outputs": [],
   "source": [
    "# Parametreleri dosyanıza göre değiştirin\n",
    "h5_path = Path('veri/ornek.h5')\n",
    "parquet_path = Path('veri/out/mydataset.parquet')\n",
    "dataset_key = 'mygroup/mydataset'\n",
    "columns = None  # veya ['col1', 'col2', ...]\n",
    "index_col = None  # veya 'mygroup/myindex'\n",
    "chunk_rows = None  # veya örn. 10000\n",
    "add_index = False\n\n",
    "h5_to_parquet(\n",
    "    h5_path=h5_path,\n",
    "    parquet_path=parquet_path,\n",
    "    dataset_key=dataset_key,\n",
    "    columns=columns,\n",
    "    index_col=index_col,\n",
    "    chunk_rows=chunk_rows,\n",
    "    add_index=add_index\n",
    ")"
   ]
  },
  {
   "cell_type": "markdown",
   "metadata": {},
   "source": [
    "## 3. Parquet Dosyasını Kontrol Edin\n",
    "Dönüşüm sonrası Parquet dosyasını okuyup kontrol edebilirsiniz."
   ]
  },
  {
   "cell_type": "code",
   "execution_count": null,
   "metadata": {},
   "outputs": [],
   "source": [
    "df = pd.read_parquet(parquet_path)\n",
    "df.head()"
   ]
  }
 ],
 "metadata": {
  "kernelspec": {
   "display_name": "Python 3",
   "language": "python",
   "name": "python3"
  },
  "language_info": {
   "name": "python",
   "version": "3.8"
  }
 },
 "nbformat": 4,
 "nbformat_minor": 2
}
