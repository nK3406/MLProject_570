{
 "cells": [
  {
   "cell_type": "markdown",
   "id": "b1a2c3d4",
   "metadata": {},
   "source": [
    "# 03 Preview Processed Parquet Files"
   ]
  },
  {
   "cell_type": "code",
   "execution_count": 2,
   "id": "e5f6a7b8",
   "metadata": {},
   "outputs": [
    {
     "data": {
      "text/plain": [
       "[PosixPath('/home/bistek/MLProject_570/data/processed/largest_wide_2018/ca_his_raw_2018_0_1439.parquet'),\n",
       " PosixPath('/home/bistek/MLProject_570/data/processed/largest_wide_2018/ca_his_raw_2018_100800_102239.parquet'),\n",
       " PosixPath('/home/bistek/MLProject_570/data/processed/largest_wide_2018/ca_his_raw_2018_10080_11519.parquet'),\n",
       " PosixPath('/home/bistek/MLProject_570/data/processed/largest_wide_2018/ca_his_raw_2018_102240_103679.parquet'),\n",
       " PosixPath('/home/bistek/MLProject_570/data/processed/largest_wide_2018/ca_his_raw_2018_103680_105119.parquet')]"
      ]
     },
     "execution_count": 2,
     "metadata": {},
     "output_type": "execute_result"
    }
   ],
   "source": [
    "import sys\n",
    "sys.path.append(\"..\")\n",
    "from src import config\n",
    "\n",
    "processed_dir = config.DATA_PROCESSED / \"largest_wide_2018\"\n",
    "files = sorted(processed_dir.glob('ca_his_raw_2018_*.parquet'))\n",
    "files[:5]"
   ]
  },
  {
   "cell_type": "code",
   "execution_count": null,
   "id": "c9d0e1f2",
   "metadata": {},
   "outputs": [
    {
     "ename": "NameError",
     "evalue": "name 'n' is not defined",
     "output_type": "error",
     "traceback": [
      "\u001b[31m---------------------------------------------------------------------------\u001b[39m",
      "\u001b[31mNameError\u001b[39m                                 Traceback (most recent call last)",
      "\u001b[36mCell\u001b[39m\u001b[36m \u001b[39m\u001b[32mIn[3]\u001b[39m\u001b[32m, line 6\u001b[39m\n\u001b[32m      4\u001b[39m \u001b[38;5;28;01mif\u001b[39;00m sample \u001b[38;5;129;01mis\u001b[39;00m \u001b[38;5;129;01mnot\u001b[39;00m \u001b[38;5;28;01mNone\u001b[39;00m:\n\u001b[32m      5\u001b[39m     df = preview_parquet(sample)\n\u001b[32m----> \u001b[39m\u001b[32m6\u001b[39m     display(df.head(\u001b[43mn\u001b[49m))\n\u001b[32m      7\u001b[39m     \u001b[38;5;28mprint\u001b[39m(\u001b[33m\"\u001b[39m\u001b[38;5;130;01m\\n\u001b[39;00m\u001b[33mDataFrame shape:\u001b[39m\u001b[33m\"\u001b[39m, df.shape)\n\u001b[32m      8\u001b[39m     \u001b[38;5;28mprint\u001b[39m(\u001b[33m\"\u001b[39m\u001b[38;5;130;01m\\n\u001b[39;00m\u001b[33mInfo:\u001b[39m\u001b[33m\"\u001b[39m)\n",
      "\u001b[31mNameError\u001b[39m: name 'n' is not defined"
     ]
    }
   ],
   "source": [
    "from src.utils.parquet_utils import preview_parquet\n",
    "\n",
    "sample = files[0] if files else None\n",
    "if sample is not None:\n",
    "    df = preview_parquet(sample)\n",
    "    display(df.head())\n",
    "    print(\"\\nDataFrame shape:\", df.shape)\n",
    "    print(\"\\nInfo:\")\n",
    "    print(df.info())\n",
    "    print(\"\\nDescribe:\")\n",
    "    display(df.describe())\n",
    "else:\n",
    "    print('No parquet files found')"
   ]
  }
 ],
 "metadata": {
  "kernelspec": {
   "display_name": "MLProject_570",
   "language": "python",
   "name": "python3"
  },
  "language_info": {
   "codemirror_mode": {
    "name": "ipython",
    "version": 3
   },
   "file_extension": ".py",
   "mimetype": "text/x-python",
   "name": "python",
   "nbconvert_exporter": "python",
   "pygments_lexer": "ipython3",
   "version": "3.13.5"
  }
 },
 "nbformat": 4,
 "nbformat_minor": 5
}
