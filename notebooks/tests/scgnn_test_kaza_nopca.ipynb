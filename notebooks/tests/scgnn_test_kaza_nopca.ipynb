{
 "cells": [
  {
   "cell_type": "markdown",
   "id": "e6754636",
   "metadata": {},
   "source": [
    "# SCGNN Test - Kaza - No PCA"
   ]
  },
  {
   "cell_type": "code",
   "execution_count": null,
   "id": "6e7fa548",
   "metadata": {},
   "outputs": [],
   "source": [
    "import pandas as pd\n",
    "import sys\n",
    "from pathlib import Path\n",
    "sys.path.append('../..')\n",
    "from src import config\n",
    "from src.utils.dataset import TrafficDataset\n",
    "from src.utils.model import TrafficPredictor\n",
    "from torch.utils.data import DataLoader"
   ]
  },
  {
   "cell_type": "code",
   "execution_count": null,
   "id": "7faf5d08",
   "metadata": {},
   "outputs": [],
   "source": [
    "DATASET_PATH = config.DATA_KAZA\n",
    "jsonl_file = DATASET_PATH / \"sampleKaza.jsonl\"\n",
    "if jsonl_file.exists():\n",
    "    df = pd.read_json(jsonl_file, lines=True)\n",
    "    if \"traffic_sequence\" in df.columns:\n",
    "        df = pd.DataFrame(df[\"traffic_sequence\"].tolist())\n",
    "else:\n",
    "    df = pd.read_parquet(DATASET_PATH / \"sampleKaza.parquet\")\n",
    "df = df.fillna(0)\n",
    "X_STEP, Y_STEP = 2, 1\n",
    "data_array = df.values"
   ]
  },
  {
   "cell_type": "code",
   "execution_count": null,
   "id": "4ebf6b43",
   "metadata": {},
   "outputs": [],
   "source": [
    "# PCA kullan\u0131lm\u0131yor\n",
    "dataset = TrafficDataset(data_array, X_STEP, Y_STEP)\n",
    "sensors = dataset.sensors\n",
    "edges = []\n",
    "for i in range(sensors - 1):\n",
    "    edges.append([i, i + 1])\n",
    "    edges.append([i + 1, i])\n",
    "edge_index = torch.tensor(edges, dtype=torch.long).t()\n",
    "predictor = TrafficPredictor('scgnn', sensors, X_STEP, Y_STEP, edge_index=edge_index, pca_model=dataset.pca if False else None)\n",
    "predictor.load_model(config.PROJECT_ROOT.joinpath('models/scgnn_kaza_nopca.pt'))\n",
    "loader = DataLoader(dataset, batch_size=10, num_workers=8)\n",
    "preds = predictor.inference(loader)\n",
    "display(pd.DataFrame(preds.squeeze()).head().iloc[:, :10])\n"
   ]
  }
 ],
 "metadata": {
  "kernelspec": {
   "display_name": ".venv",
   "language": "python",
   "name": "python3"
  },
  "language_info": {
   "codemirror_mode": {
    "name": "ipython",
    "version": 3
   },
   "file_extension": ".py",
   "mimetype": "text/x-python",
   "name": "python",
   "nbconvert_exporter": "python",
   "pygments_lexer": "ipython3",
   "version": "3.12.3"
  }
 },
 "nbformat": 4,
 "nbformat_minor": 5
}