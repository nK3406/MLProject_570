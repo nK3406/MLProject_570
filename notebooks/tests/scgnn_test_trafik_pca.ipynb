{
 "cells": [
  {
   "cell_type": "markdown",
   "id": "d5ea5ce4",
   "metadata": {},
   "source": [
    "# SCGNN Test - Trafik - PCA"
   ]
  },
  {
   "cell_type": "code",
   "execution_count": 1,
   "id": "ebc638e8",
   "metadata": {},
   "outputs": [],
   "source": [
    "import pandas as pd\n",
    "import sys\n",
    "from pathlib import Path\n",
    "sys.path.append('../..')\n",
    "from src import config\n",
    "from src.utils.dataset import TrafficDataset\n",
    "from src.utils.model import TrafficPredictor\n",
    "from torch.utils.data import DataLoader\n",
    "import torch"
   ]
  },
  {
   "cell_type": "code",
   "execution_count": 2,
   "id": "4201bb8f",
   "metadata": {},
   "outputs": [],
   "source": [
    "df = pd.read_parquet(config.DATA_INTERIM / 'data.parquet')\n",
    "df = df.fillna(0)\n",
    "X_STEP, Y_STEP = 2, 1\n",
    "data_array = df.values"
   ]
  },
  {
   "cell_type": "code",
   "execution_count": 3,
   "id": "28176ea0",
   "metadata": {},
   "outputs": [
    {
     "data": {
      "text/html": [
       "<div>\n",
       "<style scoped>\n",
       "    .dataframe tbody tr th:only-of-type {\n",
       "        vertical-align: middle;\n",
       "    }\n",
       "\n",
       "    .dataframe tbody tr th {\n",
       "        vertical-align: top;\n",
       "    }\n",
       "\n",
       "    .dataframe thead th {\n",
       "        text-align: right;\n",
       "    }\n",
       "</style>\n",
       "<table border=\"1\" class=\"dataframe\">\n",
       "  <thead>\n",
       "    <tr style=\"text-align: right;\">\n",
       "      <th></th>\n",
       "      <th>0</th>\n",
       "      <th>1</th>\n",
       "      <th>2</th>\n",
       "      <th>3</th>\n",
       "      <th>4</th>\n",
       "    </tr>\n",
       "  </thead>\n",
       "  <tbody>\n",
       "    <tr>\n",
       "      <th>0</th>\n",
       "      <td>1543.317383</td>\n",
       "      <td>2000.947021</td>\n",
       "      <td>1699.084229</td>\n",
       "      <td>989.963867</td>\n",
       "      <td>305.120911</td>\n",
       "    </tr>\n",
       "    <tr>\n",
       "      <th>1</th>\n",
       "      <td>-0.229755</td>\n",
       "      <td>3723.209473</td>\n",
       "      <td>2973.778809</td>\n",
       "      <td>-0.229755</td>\n",
       "      <td>177.650681</td>\n",
       "    </tr>\n",
       "    <tr>\n",
       "      <th>2</th>\n",
       "      <td>826.532837</td>\n",
       "      <td>3117.689453</td>\n",
       "      <td>2668.276367</td>\n",
       "      <td>249.231125</td>\n",
       "      <td>413.374573</td>\n",
       "    </tr>\n",
       "    <tr>\n",
       "      <th>3</th>\n",
       "      <td>2286.502441</td>\n",
       "      <td>2375.401611</td>\n",
       "      <td>2219.376465</td>\n",
       "      <td>564.167908</td>\n",
       "      <td>250.440109</td>\n",
       "    </tr>\n",
       "    <tr>\n",
       "      <th>4</th>\n",
       "      <td>3574.255615</td>\n",
       "      <td>1658.279297</td>\n",
       "      <td>1676.647095</td>\n",
       "      <td>732.497742</td>\n",
       "      <td>132.557495</td>\n",
       "    </tr>\n",
       "  </tbody>\n",
       "</table>\n",
       "</div>"
      ],
      "text/plain": [
       "             0            1            2           3           4\n",
       "0  1543.317383  2000.947021  1699.084229  989.963867  305.120911\n",
       "1    -0.229755  3723.209473  2973.778809   -0.229755  177.650681\n",
       "2   826.532837  3117.689453  2668.276367  249.231125  413.374573\n",
       "3  2286.502441  2375.401611  2219.376465  564.167908  250.440109\n",
       "4  3574.255615  1658.279297  1676.647095  732.497742  132.557495"
      ]
     },
     "metadata": {},
     "output_type": "display_data"
    }
   ],
   "source": [
    "PCA_COMPONENTS = 5\n",
    "dataset = TrafficDataset(data_array, X_STEP, Y_STEP, pca_components=PCA_COMPONENTS)\n",
    "sensors = dataset.sensors\n",
    "edges = []\n",
    "for i in range(sensors - 1):\n",
    "    edges.append([i, i + 1])\n",
    "    edges.append([i + 1, i])\n",
    "edge_index = torch.tensor(edges, dtype=torch.long).t()\n",
    "predictor = TrafficPredictor('scgnn', sensors, X_STEP, Y_STEP, edge_index=edge_index, pca_model=dataset.pca if True else None)\n",
    "predictor.load_model(config.PROJECT_ROOT.joinpath('models/scgnn_trafik_pca.pt'))\n",
    "loader = DataLoader(dataset, batch_size=10, num_workers=8)\n",
    "preds = predictor.inference(loader)\n",
    "display(pd.DataFrame(preds.squeeze()).head().iloc[:, :10])\n"
   ]
  }
 ],
 "metadata": {
  "kernelspec": {
   "display_name": ".venv",
   "language": "python",
   "name": "python3"
  },
  "language_info": {
   "codemirror_mode": {
    "name": "ipython",
    "version": 3
   },
   "file_extension": ".py",
   "mimetype": "text/x-python",
   "name": "python",
   "nbconvert_exporter": "python",
   "pygments_lexer": "ipython3",
   "version": "3.12.3"
  }
 },
 "nbformat": 4,
 "nbformat_minor": 5
}
