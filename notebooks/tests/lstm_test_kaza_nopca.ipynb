{
 "cells": [
  {
   "cell_type": "markdown",
   "id": "e6754636",
   "metadata": {},
   "source": [
    "# LSTM Test - Kaza - No PCA"
   ]
  },
  {
   "cell_type": "code",
   "execution_count": 1,
   "id": "6e7fa548",
   "metadata": {},
   "outputs": [],
   "source": [
    "import pandas as pd\n",
    "import sys\n",
    "from pathlib import Path\n",
    "sys.path.append('../..')\n",
    "from src import config\n",
    "from src.utils.dataset import TrafficDataset\n",
    "from src.utils.model import TrafficPredictor\n",
    "from torch.utils.data import DataLoader"
   ]
  },
  {
   "cell_type": "code",
   "execution_count": 2,
   "id": "7faf5d08",
   "metadata": {},
   "outputs": [],
   "source": [
    "DATASET_PATH = config.DATA_KAZA\n",
    "jsonl_file = DATASET_PATH / \"data.jsonl\"\n",
    "if jsonl_file.exists():\n",
    "    df = pd.read_json(jsonl_file, lines=True)\n",
    "    if \"traffic_sequence\" in df.columns:\n",
    "        df = pd.DataFrame(df[\"traffic_sequence\"].tolist())\n",
    "else:\n",
    "    df = pd.read_parquet(DATASET_PATH / \"sampleKaza.parquet\")\n",
    "df = df.fillna(0)\n",
    "X_STEP, Y_STEP = 2, 1\n",
    "data_array = df.values"
   ]
  },
  {
   "cell_type": "code",
   "execution_count": 3,
   "id": "4ebf6b43",
   "metadata": {},
   "outputs": [
    {
     "data": {
      "text/plain": [
       "array([[[ 1.3369867e+02,  1.3370010e+02,  1.3369380e+02, ...,\n",
       "         -1.6858870e-02, -1.3315851e-02, -1.4396686e-02]],\n",
       "\n",
       "       [[ 1.3369867e+02,  1.3370010e+02,  1.3369380e+02, ...,\n",
       "         -1.6858870e-02, -1.3315851e-02, -1.4396686e-02]],\n",
       "\n",
       "       [[ 1.3369867e+02,  1.3370010e+02,  1.3369380e+02, ...,\n",
       "         -1.6858870e-02, -1.3315851e-02, -1.4396686e-02]],\n",
       "\n",
       "       [[ 1.3369867e+02,  1.3370010e+02,  1.3369380e+02, ...,\n",
       "         -1.6858870e-02, -1.3315851e-02, -1.4396686e-02]],\n",
       "\n",
       "       [[ 1.3369867e+02,  1.3370010e+02,  1.3369380e+02, ...,\n",
       "         -1.6858870e-02, -1.3315851e-02, -1.4396686e-02]]],\n",
       "      shape=(5, 1, 258), dtype=float32)"
      ]
     },
     "execution_count": 3,
     "metadata": {},
     "output_type": "execute_result"
    }
   ],
   "source": [
    "# PCA kullan\u0131lm\u0131yor\n",
    "dataset = TrafficDataset(data_array, X_STEP, Y_STEP)\n",
    "predictor = TrafficPredictor('lstm', dataset.sensors, X_STEP, Y_STEP, pca_model=dataset.pca if False else None)\n",
    "predictor.load_model(config.PROJECT_ROOT.joinpath('models/lstm_kaza_nopca.pt'))\n",
    "loader = DataLoader(dataset, batch_size=10, num_workers=8)\n",
    "preds = predictor.inference(loader)\n",
    "display(pd.DataFrame(preds.squeeze()).head().iloc[:, :10])\n"
   ]
  }
 ],
 "metadata": {
  "kernelspec": {
   "display_name": ".venv",
   "language": "python",
   "name": "python3"
  },
  "language_info": {
   "codemirror_mode": {
    "name": "ipython",
    "version": 3
   },
   "file_extension": ".py",
   "mimetype": "text/x-python",
   "name": "python",
   "nbconvert_exporter": "python",
   "pygments_lexer": "ipython3",
   "version": "3.12.3"
  }
 },
 "nbformat": 4,
 "nbformat_minor": 5
}