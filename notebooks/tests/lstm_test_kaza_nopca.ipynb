{
 "cells": [
  {
   "cell_type": "markdown",
   "id": "e6754636",
   "metadata": {},
   "source": [
    "# LSTM Test - Kaza - No PCA"
   ]
  },
  {
   "cell_type": "code",
   "execution_count": null,
   "id": "6e7fa548",
   "metadata": {},
   "outputs": [],
   "source": [
    "import pandas as pd\n",
    "import sys\n",
    "from pathlib import Path\n",
    "sys.path.append('../..')\n",
    "from src.config import PROJECT_ROOT\n",
    "from src.utils.dataset import TrafficDataset\n",
    "from src.utils.model import TrafficPredictor\n",
    "from torch.utils.data import DataLoader"
   ]
  },
  {
   "cell_type": "code",
   "execution_count": null,
   "id": "7faf5d08",
   "metadata": {},
   "outputs": [],
   "source": [
    "df = pd.read_parquet(PROJECT_ROOT.joinpath('data/interim/sampleKaza.parquet'))\n",
    "df = df.fillna(0)\n",
    "X_STEP, Y_STEP = 2, 1\n",
    "data_array = df.values"
   ]
  },
  {
   "cell_type": "code",
   "execution_count": null,
   "id": "4ebf6b43",
   "metadata": {},
   "outputs": [],
   "source": [
    "# PCA kullanılmıyor\n",
    "dataset = TrafficDataset(data_array, X_STEP, Y_STEP)\n",
    "predictor = TrafficPredictor('lstm', dataset.sensors, X_STEP, Y_STEP, pca_model=dataset.pca if False else None)\n",
    "predictor.load_model(PROJECT_ROOT.joinpath('models/lstm_kaza_nopca.pt'))\n",
    "loader = DataLoader(dataset, batch_size=10)\n",
    "preds = predictor.inference(loader)\n",
    "preds[:5]"
   ]
  }
 ],
 "metadata": {
  "kernelspec": {
   "display_name": ".venv",
   "language": "python",
   "name": "python3"
  },
  "language_info": {
   "codemirror_mode": {
    "name": "ipython",
    "version": 3
   },
   "file_extension": ".py",
   "mimetype": "text/x-python",
   "name": "python",
   "nbconvert_exporter": "python",
   "pygments_lexer": "ipython3",
   "version": "3.12.3"
  }
 },
 "nbformat": 4,
 "nbformat_minor": 5
}
