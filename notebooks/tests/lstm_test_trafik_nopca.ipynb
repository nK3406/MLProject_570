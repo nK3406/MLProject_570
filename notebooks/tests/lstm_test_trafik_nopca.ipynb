{
 "cells": [
  {
   "cell_type": "markdown",
   "id": "29cf4a9c",
   "metadata": {},
   "source": [
    "# LSTM Test - Trafik - No PCA"
   ]
  },
  {
   "cell_type": "code",
   "execution_count": 1,
   "id": "1142b6b6",
   "metadata": {},
   "outputs": [],
   "source": [
    "import pandas as pd\n",
    "import sys\n",
    "from pathlib import Path\n",
    "sys.path.append('../..')\n",
    "from src import config\n",
    "from src.utils.dataset import TrafficDataset\n",
    "from src.utils.model import TrafficPredictor\n",
    "from torch.utils.data import DataLoader"
   ]
  },
  {
   "cell_type": "code",
   "execution_count": 2,
   "id": "10bf1615",
   "metadata": {},
   "outputs": [],
   "source": [
    "df = pd.read_parquet(config.DATA_INTERIM / 'data.parquet')\n",
    "df = df.fillna(0)\n",
    "X_STEP, Y_STEP = 2, 1\n",
    "data_array = df.values"
   ]
  },
  {
   "cell_type": "code",
   "execution_count": 3,
   "id": "bb29a0af",
   "metadata": {},
   "outputs": [
    {
     "data": {
      "text/plain": [
       "array([[[119.019775, 128.73528 , 138.71672 , ..., 276.4629  ,\n",
       "         263.76733 , 243.15211 ]],\n",
       "\n",
       "       [[119.019775, 128.73528 , 138.71672 , ..., 276.4629  ,\n",
       "         263.76733 , 243.15211 ]],\n",
       "\n",
       "       [[119.019775, 128.73528 , 138.71672 , ..., 276.4629  ,\n",
       "         263.76733 , 243.15211 ]],\n",
       "\n",
       "       [[119.019775, 128.73528 , 138.71672 , ..., 276.4629  ,\n",
       "         263.76733 , 243.15211 ]],\n",
       "\n",
       "       [[119.019775, 128.73528 , 138.71672 , ..., 276.4629  ,\n",
       "         263.76733 , 243.15211 ]]], shape=(5, 1, 8600), dtype=float32)"
      ]
     },
     "execution_count": 3,
     "metadata": {},
     "output_type": "execute_result"
    }
   ],
   "source": [
    "# PCA kullanılmıyor\n",
    "dataset = TrafficDataset(data_array, X_STEP, Y_STEP)\n",
    "predictor = TrafficPredictor('lstm', dataset.sensors, X_STEP, Y_STEP, pca_model=dataset.pca if False else None)\n",
    "predictor.load_model(config.PROJECT_ROOT.joinpath('models/lstm_trafik_nopca.pt'))\n",
    "loader = DataLoader(dataset, batch_size=10, num_workers=8)\n",
    "preds = predictor.inference(loader)\n",
    "preds[:5]"
   ]
  }
 ],
 "metadata": {
  "kernelspec": {
   "display_name": ".venv",
   "language": "python",
   "name": "python3"
  },
  "language_info": {
   "codemirror_mode": {
    "name": "ipython",
    "version": 3
   },
   "file_extension": ".py",
   "mimetype": "text/x-python",
   "name": "python",
   "nbconvert_exporter": "python",
   "pygments_lexer": "ipython3",
   "version": "3.12.3"
  }
 },
 "nbformat": 4,
 "nbformat_minor": 5
}
