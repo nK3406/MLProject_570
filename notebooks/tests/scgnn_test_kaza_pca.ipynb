{
 "cells": [
  {
   "cell_type": "markdown",
   "id": "6c8b34bf",
   "metadata": {},
   "source": [
    "# SCGNN Test - Kaza - PCA"
   ]
  },
  {
   "cell_type": "code",
   "execution_count": 1,
   "id": "34dd2156",
   "metadata": {},
   "outputs": [],
   "source": [
    "import pandas as pd\n",
    "import sys\n",
    "from pathlib import Path\n",
    "sys.path.append('../..')\n",
    "from src import config\n",
    "from src.utils.dataset import TrafficDataset\n",
    "from src.utils.model import TrafficPredictor\n",
    "from torch.utils.data import DataLoader\n",
    "import torch"
   ]
  },
  {
   "cell_type": "code",
   "execution_count": 2,
   "id": "097ee73a",
   "metadata": {},
   "outputs": [],
   "source": [
    "DATASET_PATH = config.DATA_KAZA\n",
    "jsonl_file = DATASET_PATH / \"data.jsonl\"\n",
    "if jsonl_file.exists():\n",
    "    df = pd.read_json(jsonl_file, lines=True)\n",
    "    if \"traffic_sequence\" in df.columns:\n",
    "        df = pd.DataFrame(df[\"traffic_sequence\"].tolist())\n",
    "else:\n",
    "    df = pd.read_parquet(DATASET_PATH / \"data.parquet\")\n",
    "df = df.fillna(0)\n",
    "X_STEP, Y_STEP = 2, 1\n",
    "data_array = df.values"
   ]
  },
  {
   "cell_type": "code",
   "execution_count": 3,
   "id": "9f0a4463",
   "metadata": {},
   "outputs": [
    {
     "data": {
      "text/html": [
       "<div>\n",
       "<style scoped>\n",
       "    .dataframe tbody tr th:only-of-type {\n",
       "        vertical-align: middle;\n",
       "    }\n",
       "\n",
       "    .dataframe tbody tr th {\n",
       "        vertical-align: top;\n",
       "    }\n",
       "\n",
       "    .dataframe thead th {\n",
       "        text-align: right;\n",
       "    }\n",
       "</style>\n",
       "<table border=\"1\" class=\"dataframe\">\n",
       "  <thead>\n",
       "    <tr style=\"text-align: right;\">\n",
       "      <th></th>\n",
       "      <th>0</th>\n",
       "      <th>1</th>\n",
       "      <th>2</th>\n",
       "      <th>3</th>\n",
       "      <th>4</th>\n",
       "    </tr>\n",
       "  </thead>\n",
       "  <tbody>\n",
       "    <tr>\n",
       "      <th>0</th>\n",
       "      <td>-0.044980</td>\n",
       "      <td>-0.044980</td>\n",
       "      <td>-0.044980</td>\n",
       "      <td>-0.016781</td>\n",
       "      <td>-0.010444</td>\n",
       "    </tr>\n",
       "    <tr>\n",
       "      <th>1</th>\n",
       "      <td>-0.044980</td>\n",
       "      <td>-0.044980</td>\n",
       "      <td>12.654749</td>\n",
       "      <td>-0.044980</td>\n",
       "      <td>-0.044980</td>\n",
       "    </tr>\n",
       "    <tr>\n",
       "      <th>2</th>\n",
       "      <td>-0.044980</td>\n",
       "      <td>-0.044980</td>\n",
       "      <td>-0.044980</td>\n",
       "      <td>-0.044980</td>\n",
       "      <td>-0.044980</td>\n",
       "    </tr>\n",
       "    <tr>\n",
       "      <th>3</th>\n",
       "      <td>-0.044980</td>\n",
       "      <td>64.343712</td>\n",
       "      <td>4.014966</td>\n",
       "      <td>1.450207</td>\n",
       "      <td>24.054663</td>\n",
       "    </tr>\n",
       "    <tr>\n",
       "      <th>4</th>\n",
       "      <td>181.003143</td>\n",
       "      <td>241.969513</td>\n",
       "      <td>2.938619</td>\n",
       "      <td>-0.044980</td>\n",
       "      <td>2.889809</td>\n",
       "    </tr>\n",
       "  </tbody>\n",
       "</table>\n",
       "</div>"
      ],
      "text/plain": [
       "            0           1          2         3          4\n",
       "0   -0.044980   -0.044980  -0.044980 -0.016781  -0.010444\n",
       "1   -0.044980   -0.044980  12.654749 -0.044980  -0.044980\n",
       "2   -0.044980   -0.044980  -0.044980 -0.044980  -0.044980\n",
       "3   -0.044980   64.343712   4.014966  1.450207  24.054663\n",
       "4  181.003143  241.969513   2.938619 -0.044980   2.889809"
      ]
     },
     "metadata": {},
     "output_type": "display_data"
    }
   ],
   "source": [
    "PCA_COMPONENTS = 5\n",
    "dataset = TrafficDataset(data_array, X_STEP, Y_STEP, pca_components=PCA_COMPONENTS)\n",
    "sensors = dataset.sensors\n",
    "edges = []\n",
    "for i in range(sensors - 1):\n",
    "    edges.append([i, i + 1])\n",
    "    edges.append([i + 1, i])\n",
    "edge_index = torch.tensor(edges, dtype=torch.long).t()\n",
    "predictor = TrafficPredictor('scgnn', sensors, X_STEP, Y_STEP, edge_index=edge_index, pca_model=dataset.pca if True else None)\n",
    "predictor.load_model(config.PROJECT_ROOT.joinpath('models/scgnn_kaza_pca.pt'))\n",
    "loader = DataLoader(dataset, batch_size=10, num_workers=8)\n",
    "preds = predictor.inference(loader)\n",
    "display(pd.DataFrame(preds.squeeze()).head().iloc[:, :10])\n"
   ]
  }
 ],
 "metadata": {
  "kernelspec": {
   "display_name": ".venv",
   "language": "python",
   "name": "python3"
  },
  "language_info": {
   "codemirror_mode": {
    "name": "ipython",
    "version": 3
   },
   "file_extension": ".py",
   "mimetype": "text/x-python",
   "name": "python",
   "nbconvert_exporter": "python",
   "pygments_lexer": "ipython3",
   "version": "3.12.3"
  }
 },
 "nbformat": 4,
 "nbformat_minor": 5
}
