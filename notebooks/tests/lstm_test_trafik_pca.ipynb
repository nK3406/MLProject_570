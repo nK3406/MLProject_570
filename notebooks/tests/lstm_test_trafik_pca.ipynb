{
 "cells": [
  {
   "cell_type": "markdown",
   "id": "d5ea5ce4",
   "metadata": {},
   "source": [
    "# LSTM Test - Trafik - PCA"
   ]
  },
  {
   "cell_type": "code",
   "execution_count": null,
   "id": "ebc638e8",
   "metadata": {},
   "outputs": [],
   "source": [
    "import pandas as pd\n",
    "import sys\n",
    "from pathlib import Path\n",
    "sys.path.append('../..')\n",
    "from src.config import PROJECT_ROOT\n",
    "from src.utils.dataset import TrafficDataset\n",
    "from src.utils.model import TrafficPredictor\n",
    "from torch.utils.data import DataLoader"
   ]
  },
  {
   "cell_type": "code",
   "execution_count": null,
   "id": "4201bb8f",
   "metadata": {},
   "outputs": [],
   "source": [
    "df = pd.read_parquet(PROJECT_ROOT.joinpath('data/interim/sample.parquet'))\n",
    "df = df.fillna(0)\n",
    "X_STEP, Y_STEP = 2, 1\n",
    "data_array = df.values"
   ]
  },
  {
   "cell_type": "code",
   "execution_count": null,
   "id": "28176ea0",
   "metadata": {},
   "outputs": [],
   "source": [
    "PCA_COMPONENTS = 5\n",
    "dataset = TrafficDataset(data_array, X_STEP, Y_STEP, pca_components=PCA_COMPONENTS)\n",
    "predictor = TrafficPredictor('lstm', dataset.sensors, X_STEP, Y_STEP, pca_model=dataset.pca if True else None)\n",
    "predictor.load_model(PROJECT_ROOT.joinpath('models/lstm_trafik_pca.pt'))\n",
    "loader = DataLoader(dataset, batch_size=10)\n",
    "preds = predictor.inference(loader)\n",
    "preds[:5]"
   ]
  }
 ],
 "metadata": {
  "kernelspec": {
   "display_name": ".venv",
   "language": "python",
   "name": "python3"
  },
  "language_info": {
   "codemirror_mode": {
    "name": "ipython",
    "version": 3
   },
   "file_extension": ".py",
   "mimetype": "text/x-python",
   "name": "python",
   "nbconvert_exporter": "python",
   "pygments_lexer": "ipython3",
   "version": "3.12.3"
  }
 },
 "nbformat": 4,
 "nbformat_minor": 5
}
