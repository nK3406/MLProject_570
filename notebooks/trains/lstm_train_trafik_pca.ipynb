{
 "cells": [
  {
   "cell_type": "markdown",
   "id": "e4747cd5",
   "metadata": {},
   "source": [
    "# LSTM Train - Trafik - PCA"
   ]
  },
  {
   "cell_type": "code",
   "execution_count": null,
   "id": "8d68e437",
   "metadata": {},
   "outputs": [],
   "source": [
    "import pandas as pd\n",
    "import sys\n",
    "from pathlib import Path\n",
    "sys.path.append('../..')\n",
    "from src import config\n",
    "from src.utils.dataset import TrafficDataset\n",
    "from src.utils.model import TrafficPredictor\n",
    "from torch.utils.data import DataLoader, random_split"
   ]
  },
  {
   "cell_type": "code",
   "execution_count": null,
   "id": "7f31aa67",
   "metadata": {},
   "outputs": [],
   "source": [
    "DATASET_PATH = config.DATA_TRAFIK\n",
    "df = pd.read_parquet(DATASET_PATH / 'data.parquet')\n",
    "df = df.fillna(0)\n",
    "X_STEP, Y_STEP = 2, 1\n",
    "data_array = df.values"
   ]
  },
  {
   "cell_type": "code",
   "execution_count": null,
   "id": "37827209",
   "metadata": {},
   "outputs": [],
   "source": [
    "PCA_COMPONENTS = 5\n",
    "dataset = TrafficDataset(data_array, X_STEP, Y_STEP, pca_components=PCA_COMPONENTS)\n",
    "train_len = int(len(dataset) * 0.8)\n",
    "val_len = len(dataset) - train_len\n",
    "train_ds, val_ds = random_split(dataset, [train_len, val_len])\n",
    "train_loader = DataLoader(train_ds, batch_size=10, shuffle=True)\n",
    "val_loader = DataLoader(val_ds, batch_size=10)\n",
    "predictor = TrafficPredictor('lstm', dataset.sensors, X_STEP, Y_STEP, pca_model=dataset.pca if True else None)\n",
    "predictor.train(train_loader, val_loader, epochs=10, save_path=config.PROJECT_ROOT.joinpath('models/lstm_trafik_pca.pt'), save_optimizer=True)\n",
    "predictor.show()"
   ]
  }
 ],
 "metadata": {
  "kernelspec": {
   "display_name": ".venv",
   "language": "python",
   "name": "python3"
  },
  "language_info": {
   "codemirror_mode": {
    "name": "ipython",
    "version": 3
   },
   "file_extension": ".py",
   "mimetype": "text/x-python",
   "name": "python",
   "nbconvert_exporter": "python",
   "pygments_lexer": "ipython3",
   "version": "3.12.3"
  }
 },
 "nbformat": 4,
 "nbformat_minor": 5
}
