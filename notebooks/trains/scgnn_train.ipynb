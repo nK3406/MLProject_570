{
 "cells": [
  {
   "cell_type": "markdown",
   "metadata": {},
   "source": [
    "# SCGNN Train"
   ]
  },
  {
   "cell_type": "code",
   "execution_count": 1,
   "id": "d053aa9a",
   "metadata": {},
   "outputs": [],
   "source": [
    "import pandas as pd\n",
    "import torch\n",
    "import sys\n",
    "sys.path.append(\"..\")\n",
    "from src import config\n",
    "from src.utils.dataset import TrafficDataset\n",
    "from src.utils.model import TrafficPredictor\n",
    "from torch.utils.data import DataLoader, random_split\n"
   ]
  },
  {
   "cell_type": "code",
   "execution_count": 2,
   "id": "f0896837",
   "metadata": {},
   "outputs": [],
   "source": [
    "df = pd.read_parquet(config.DATA_INTERIM / 'sample.parquet')\n",
    "df = df.fillna(0)\n",
    "# K\u00fc\u00e7\u00fck bir sens\u00f6r alt k\u00fcmesi kullan\n",
    "df = df.iloc[:, :10]\n",
    "X_STEP, Y_STEP = 2, 1\n",
    "data_array = df.values\n"
   ]
  },
  {
   "cell_type": "code",
   "execution_count": 3,
   "id": "50f5a393",
   "metadata": {},
   "outputs": [],
   "source": [
    "dataset = TrafficDataset(data_array, X_STEP, Y_STEP)\n",
    "train_len = int(len(dataset) * 0.8)\n",
    "val_len = len(dataset) - train_len\n",
    "train_ds, val_ds = random_split(dataset, [train_len, val_len])\n",
    "train_loader = DataLoader(train_ds, batch_size=2, shuffle=True, num_workers=8)\n",
    "val_loader = DataLoader(val_ds, batch_size=2, num_workers=8)\n"
   ]
  },
  {
   "cell_type": "code",
   "execution_count": 5,
   "id": "4843dd13",
   "metadata": {},
   "outputs": [
    {
     "name": "stdout",
     "output_type": "stream",
     "text": [
      "  >> Model saved to /home/orhankocak_0233/MLProject_570/models/scgnn.pt (val_loss improved)\n",
      "Epoch 1/1  Train Loss: 2354.0740  Val Loss: 4243.5557  Val MSE: 4243.5562  Val R2: -8.5513\n",
      "Training finished. Best epoch: 1 with val_loss=4243.5557\n",
      "== Son Performans Metrikleri ==\n",
      "mse: 4243.55615234375\n",
      "mae: 61.55739212036133\n",
      "r2: -8.55132007598877\n"
     ]
    }
   ],
   "source": [
    "sensors = data_array.shape[1]\n",
    "edges = []\n",
    "for i in range(sensors - 1):\n",
    "    edges.append([i, i + 1])\n",
    "    edges.append([i + 1, i])\n",
    "edge_index = torch.tensor(edges, dtype=torch.long).t()\n",
    "predictor = TrafficPredictor('scgnn', sensors, X_STEP, Y_STEP, edge_index=edge_index)\n",
    "predictor.train(train_loader, \n",
    "                val_loader, \n",
    "                epochs=1,\n",
    "                save_path=config.PROJECT_ROOT.joinpath(\"models/scgnn.pt\"),\n",
    "                save_optimizer=True)\n",
    "\n",
    "\n",
    "predictor.show()\n",
    "\n",
    "\n"
   ]
  }
 ],
 "metadata": {
  "kernelspec": {
   "display_name": ".venv",
   "language": "python",
   "name": "python3"
  },
  "language_info": {
   "codemirror_mode": {
    "name": "ipython",
    "version": 3
   },
   "file_extension": ".py",
   "mimetype": "text/x-python",
   "name": "python",
   "nbconvert_exporter": "python",
   "pygments_lexer": "ipython3",
   "version": "3.12.3"
  }
 },
 "nbformat": 4,
 "nbformat_minor": 5
}