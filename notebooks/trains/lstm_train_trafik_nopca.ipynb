{
 "cells": [
  {
   "cell_type": "markdown",
   "id": "d924a0ab",
   "metadata": {},
   "source": [
    "# LSTM Train - Trafik - No PCA"
   ]
  },
  {
   "cell_type": "code",
   "execution_count": null,
   "id": "100dc28a",
   "metadata": {},
   "outputs": [],
   "source": [
    "import pandas as pd\n",
    "import sys\n",
    "from pathlib import Path\n",
    "sys.path.append('../..')\n",
    "from src import config\n",
    "from src.utils.dataset import TrafficDataset\n",
    "from src.utils.model import TrafficPredictor\n",
    "from torch.utils.data import DataLoader, random_split"
   ]
  },
  {
   "cell_type": "code",
   "execution_count": null,
   "id": "7159ea3c",
   "metadata": {},
   "outputs": [],
   "source": [
    "DATASET_PATH = config.DATA_TRAFIK\n",
    "df = pd.read_parquet(DATASET_PATH / 'data.parquet')\n",
    "df = df.fillna(0)\n",
    "X_STEP, Y_STEP = 2, 1\n",
    "data_array = df.values"
   ]
  },
  {
   "cell_type": "code",
   "execution_count": null,
   "id": "20ae0354",
   "metadata": {},
   "outputs": [],
   "source": [
    "# PCA kullanılmıyor\n",
    "dataset = TrafficDataset(data_array, X_STEP, Y_STEP)\n",
    "train_len = int(len(dataset) * 0.8)\n",
    "val_len = len(dataset) - train_len\n",
    "train_ds, val_ds = random_split(dataset, [train_len, val_len])\n",
    "train_loader = DataLoader(train_ds, batch_size=10, shuffle=True)\n",
    "val_loader = DataLoader(val_ds, batch_size=10)\n",
    "predictor = TrafficPredictor('lstm', dataset.sensors, X_STEP, Y_STEP, pca_model=dataset.pca if False else None)\n",
    "predictor.train(train_loader, val_loader, epochs=10, save_path=config.PROJECT_ROOT.joinpath('models/lstm_trafik_nopca.pt'), save_optimizer=True)\n",
    "predictor.show()"
   ]
  }
 ],
 "metadata": {
  "kernelspec": {
   "display_name": ".venv",
   "language": "python",
   "name": "python3"
  },
  "language_info": {
   "codemirror_mode": {
    "name": "ipython",
    "version": 3
   },
   "file_extension": ".py",
   "mimetype": "text/x-python",
   "name": "python",
   "nbconvert_exporter": "python",
   "pygments_lexer": "ipython3",
   "version": "3.12.3"
  }
 },
 "nbformat": 4,
 "nbformat_minor": 5
}
