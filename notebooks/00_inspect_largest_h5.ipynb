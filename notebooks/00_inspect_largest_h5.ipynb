{
  "cells": [
    {
      "cell_type": "markdown",
      "id": "bf2d30e7",
      "metadata": {},
      "source": [
        "# 00 Inspect LargeST HDF5 Structure"
      ]
    },
    {
      "cell_type": "code",
      "execution_count": 1,
      "id": "4fbbd129",
      "metadata": {},
      "outputs": [
        {
          "name": "stdout",
          "output_type": "stream",
          "text": [
            "📁 /\n",
            "  📁 t/\n",
            "    📄 t/axis0  (8600,)  |S9\n",
            "    📄 t/axis1  (105120,)  int64\n",
            "    📄 t/block0_items  (8600,)  |S9\n",
            "    📄 t/block0_values  (105120, 8600)  float64\n"
          ]
        }
      ],
      "source": [
        "import sys\n",
        "sys.path.append(\"..\")\n",
        "from src.utils.h5_utils import list_h5_structure\n",
        "from src import config\n",
        "\n",
        "list_h5_structure(config.LARGEST_DIR / \"ca_his_raw_2017.h5\")"
      ]
    },
    {
      "cell_type": "code",
      "execution_count": null,
      "id": "a012d0de",
      "metadata": {},
      "outputs": [
        {
          "name": "stderr",
          "output_type": "stream",
          "text": [
            "ca_his_raw_2020.h5: 100%|██████████| 74/74 [00:46<00:00,  1.58it/s]\n"
          ]
        }
      ],
      "source": [
        "from src import config\n",
        "from src.utils.h5_utils import h5_block_to_parquet_wide\n",
        "\n",
        "h5_file = config.LARGEST_DIR / \"ca_his_raw_2021.h5\"\n",
        "out_dir = config.DATA_PROCESSED / \"largest_wide_2021\"\n",
        "\n",
        "h5_block_to_parquet_wide(\n",
        "    h5_path=h5_file,\n",
        "    out_dir=out_dir,\n",
        "    chunk_rows=1440            \n",
        ")\n"
      ]
    }
  ],
  "metadata": {
    "kernelspec": {
      "display_name": "MLProject_570",
      "language": "python",
      "name": "python3"
    },
    "language_info": {
      "codemirror_mode": {
        "name": "ipython",
        "version": 3
      },
      "file_extension": ".py",
      "mimetype": "text/x-python",
      "name": "python",
      "nbconvert_exporter": "python",
      "pygments_lexer": "ipython3",
      "version": "3.13.5"
    }
  },
  "nbformat": 4,
  "nbformat_minor": 5
}
