{
 "cells": [
  {
   "cell_type": "markdown",
   "id": "bf2d30e7",
   "metadata": {},
   "source": [
    "# 00 Inspect LargeST HDF5 Structure"
   ]
  },
  {
   "cell_type": "code",
   "execution_count": null,
   "id": "4fbbd129",
   "metadata": {},
   "outputs": [],
   "source": [
    "from src.utils.h5_utils import list_h5_structure\n",
    "from src import config\n",
    "\n",
    "list_h5_structure(config.LARGEST_DIR / 'ca_his_raw_2017.h5')"
   ]
  }
 ],
 "metadata": {},
 "nbformat": 4,
 "nbformat_minor": 5
}
