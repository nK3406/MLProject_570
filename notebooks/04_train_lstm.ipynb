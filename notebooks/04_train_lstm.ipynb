{
 "cells": [
  {
   "cell_type": "markdown",
   "id": "c2eb68ec",
   "metadata": {},
   "source": [
    "# 04 LSTM Eğitimi"
   ]
  },
  {
   "cell_type": "code",
   "execution_count": 1,
   "id": "93ba55e3",
   "metadata": {},
   "outputs": [],
   "source": [
    "import pandas as pd\n",
    "import sys\n",
    "sys.path.append(\"..\")\n",
    "from src.config import PROJECT_ROOT\n",
    "from src.utils.dataset import TrafficDataset\n",
    "from src.utils.model import TrafficPredictor\n",
    "from torch.utils.data import DataLoader, random_split\n"
   ]
  },
  {
   "cell_type": "code",
   "execution_count": 2,
   "id": "6d4111eb",
   "metadata": {},
   "outputs": [],
   "source": [
    "df = pd.read_parquet(PROJECT_ROOT.joinpath('data/interim/sample.parquet'))\n",
    "df = df.fillna(0)\n",
    "X_STEP, Y_STEP = 2, 1\n",
    "\n",
    "data_array = df.values\n"
   ]
  },
  {
   "cell_type": "code",
   "execution_count": null,
   "id": "c36d6e0d",
   "metadata": {},
   "outputs": [],
   "source": [
    "dataset = TrafficDataset(data_array, X_STEP, Y_STEP)\n",
    "train_len = int(len(dataset) * 0.8)\n",
    "val_len = len(dataset) - train_len\n",
    "train_ds, val_ds = random_split(dataset, [train_len, val_len])\n",
    "train_loader = DataLoader(train_ds, batch_size=10, shuffle=True)\n",
    "val_loader = DataLoader(val_ds, batch_size=10)\n"
   ]
  },
  {
   "cell_type": "code",
   "execution_count": 5,
   "id": "a1b04741",
   "metadata": {},
   "outputs": [
    {
     "name": "stdout",
     "output_type": "stream",
     "text": [
      "  >> Model saved to /home/orhankocak_0233/MLProject_570/models/lstm.pt (val_loss improved)\n",
      "Epoch 1/10  Train Loss: 14099.9570  Val Loss: 18066.1445  Val MSE: 18066.1445  Val R2: -1.7327\n",
      "  >> Model saved to /home/orhankocak_0233/MLProject_570/models/lstm.pt (val_loss improved)\n",
      "Epoch 2/10  Train Loss: 14098.7939  Val Loss: 18064.8652  Val MSE: 18064.8672  Val R2: -1.7325\n",
      "  >> Model saved to /home/orhankocak_0233/MLProject_570/models/lstm.pt (val_loss improved)\n",
      "Epoch 3/10  Train Loss: 14097.6387  Val Loss: 18063.4453  Val MSE: 18063.4453  Val R2: -1.7323\n",
      "  >> Model saved to /home/orhankocak_0233/MLProject_570/models/lstm.pt (val_loss improved)\n",
      "Epoch 4/10  Train Loss: 14096.3516  Val Loss: 18061.8496  Val MSE: 18061.8496  Val R2: -1.7321\n",
      "  >> Model saved to /home/orhankocak_0233/MLProject_570/models/lstm.pt (val_loss improved)\n",
      "Epoch 5/10  Train Loss: 14094.8955  Val Loss: 18060.0410  Val MSE: 18060.0410  Val R2: -1.7318\n",
      "  >> Model saved to /home/orhankocak_0233/MLProject_570/models/lstm.pt (val_loss improved)\n",
      "Epoch 6/10  Train Loss: 14093.2393  Val Loss: 18057.9980  Val MSE: 18057.9980  Val R2: -1.7315\n",
      "  >> Model saved to /home/orhankocak_0233/MLProject_570/models/lstm.pt (val_loss improved)\n",
      "Epoch 7/10  Train Loss: 14091.3535  Val Loss: 18055.6953  Val MSE: 18055.6973  Val R2: -1.7311\n",
      "  >> Model saved to /home/orhankocak_0233/MLProject_570/models/lstm.pt (val_loss improved)\n",
      "Epoch 8/10  Train Loss: 14089.2197  Val Loss: 18053.1055  Val MSE: 18053.1074  Val R2: -1.7307\n",
      "  >> Model saved to /home/orhankocak_0233/MLProject_570/models/lstm.pt (val_loss improved)\n",
      "Epoch 9/10  Train Loss: 14086.8115  Val Loss: 18050.1992  Val MSE: 18050.2012  Val R2: -1.7303\n",
      "  >> Model saved to /home/orhankocak_0233/MLProject_570/models/lstm.pt (val_loss improved)\n",
      "Epoch 10/10  Train Loss: 14084.0986  Val Loss: 18046.9512  Val MSE: 18046.9512  Val R2: -1.7298\n",
      "Training finished. Best epoch: 10 with val_loss=18046.9512\n",
      "== Son Performans Metrikleri ==\n",
      "mse: 18046.951171875\n",
      "mae: 106.95345306396484\n",
      "r2: -1.7298128604888916\n"
     ]
    }
   ],
   "source": [
    "sensors = data_array.shape[1]\n",
    "predictor = TrafficPredictor('lstm', sensors, X_STEP, Y_STEP)\n",
    "predictor.train(train_loader, val_loader, epochs=10, \n",
    "                save_path=PROJECT_ROOT.joinpath(\"models/lstm.pt\"), \n",
    "                save_optimizer=True)\n",
    "predictor.show()\n"
   ]
  }
 ],
 "metadata": {
  "kernelspec": {
   "display_name": ".venv",
   "language": "python",
   "name": "python3"
  },
  "language_info": {
   "codemirror_mode": {
    "name": "ipython",
    "version": 3
   },
   "file_extension": ".py",
   "mimetype": "text/x-python",
   "name": "python",
   "nbconvert_exporter": "python",
   "pygments_lexer": "ipython3",
   "version": "3.12.3"
  }
 },
 "nbformat": 4,
 "nbformat_minor": 5
}
