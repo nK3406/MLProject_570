{
 "cells": [
  {
   "cell_type": "markdown",
   "id": "c2eb68ec",
   "metadata": {},
   "source": [
    "# 04 LSTM Eğitimi"
   ]
  },
  {
   "cell_type": "code",
   "execution_count": null,
   "id": "93ba55e3",
   "metadata": {},
   "outputs": [],
   "source": [
    "import pandas as pd\n",
    "from src.utils.dataset import TrafficDataset\n",
    "from src.utils.model import TrafficPredictor\n",
    "from torch.utils.data import DataLoader, random_split\n"
   ]
  },
  {
   "cell_type": "code",
   "execution_count": null,
   "id": "6d4111eb",
   "metadata": {},
   "outputs": [],
   "source": [
    "df = pd.read_parquet('data/interim/sample.parquet')\n",
    "df = df.fillna(0)\n",
    "X_STEP, Y_STEP = 2, 1\n",
    "\n",
    "data_array = df.values\n"
   ]
  },
  {
   "cell_type": "code",
   "execution_count": null,
   "id": "c36d6e0d",
   "metadata": {},
   "outputs": [],
   "source": [
    "dataset = TrafficDataset(data_array, X_STEP, Y_STEP)\n",
    "train_len = int(len(dataset) * 0.8)\n",
    "val_len = len(dataset) - train_len\n",
    "train_ds, val_ds = random_split(dataset, [train_len, val_len])\n",
    "train_loader = DataLoader(train_ds, batch_size=2, shuffle=True)\n",
    "val_loader = DataLoader(val_ds, batch_size=2)\n"
   ]
  },
  {
   "cell_type": "code",
   "execution_count": null,
   "id": "a1b04741",
   "metadata": {},
   "outputs": [],
   "source": [
    "sensors = data_array.shape[1]\n",
    "predictor = TrafficPredictor('lstm', sensors, X_STEP, Y_STEP)\n",
    "predictor.train(train_loader, val_loader, epochs=1)\n",
    "predictor.show()\n"
   ]
  }
 ],
 "metadata": {},
 "nbformat": 4,
 "nbformat_minor": 5
}
