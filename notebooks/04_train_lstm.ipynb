{
 "cells": [
  {
   "cell_type": "markdown",
   "id": "c2eb68ec",
   "metadata": {},
   "source": [
    "# 04 LSTM Eğitimi"
   ]
  },
  {
   "cell_type": "code",
   "execution_count": 1,
   "id": "93ba55e3",
   "metadata": {},
   "outputs": [],
   "source": [
    "import pandas as pd\n",
    "import sys\n",
    "sys.path.append(\"..\")\n",
    "from src.config import PROJECT_ROOT\n",
    "from src.utils.dataset import TrafficDataset\n",
    "from src.utils.model import TrafficPredictor\n",
    "from torch.utils.data import DataLoader, random_split\n"
   ]
  },
  {
   "cell_type": "code",
   "execution_count": 2,
   "id": "6d4111eb",
   "metadata": {},
   "outputs": [],
   "source": [
    "df = pd.read_parquet(PROJECT_ROOT.joinpath('data/interim/sample.parquet'))\n",
    "df = df.fillna(0)\n",
    "X_STEP, Y_STEP = 2, 1\n",
    "\n",
    "data_array = df.values\n"
   ]
  },
  {
   "cell_type": "code",
   "execution_count": 3,
   "id": "c36d6e0d",
   "metadata": {},
   "outputs": [],
   "source": [
    "dataset = TrafficDataset(data_array, X_STEP, Y_STEP)\n",
    "train_len = int(len(dataset) * 0.8)\n",
    "val_len = len(dataset) - train_len\n",
    "train_ds, val_ds = random_split(dataset, [train_len, val_len])\n",
    "train_loader = DataLoader(train_ds, batch_size=10, shuffle=True)\n",
    "val_loader = DataLoader(val_ds, batch_size=10)\n"
   ]
  },
  {
   "cell_type": "code",
   "execution_count": 5,
   "id": "a1b04741",
   "metadata": {},
   "outputs": [
    {
     "name": "stdout",
     "output_type": "stream",
     "text": [
      "8600\n"
     ]
    }
   ],
   "source": [
    "sensors = data_array.shape[1]\n",
    "print(sensors)"
   ]
  },
  {
   "cell_type": "code",
   "execution_count": 6,
   "id": "441df48a",
   "metadata": {},
   "outputs": [
    {
     "name": "stdout",
     "output_type": "stream",
     "text": [
      "  >> Model saved to /home/orhankocak_0233/MLProject_570/models/lstm.pt (val_loss improved)\n",
      "Epoch 1/50  Train Loss: 15509.8701  Val Loss: 15244.4375  Val MSE: 15244.4375  Val R2: -1.6511\n",
      "  >> Model saved to /home/orhankocak_0233/MLProject_570/models/lstm.pt (val_loss improved)\n",
      "Epoch 2/50  Train Loss: 15508.5420  Val Loss: 15243.1514  Val MSE: 15243.1514  Val R2: -1.6509\n",
      "  >> Model saved to /home/orhankocak_0233/MLProject_570/models/lstm.pt (val_loss improved)\n",
      "Epoch 3/50  Train Loss: 15507.1953  Val Loss: 15241.7285  Val MSE: 15241.7285  Val R2: -1.6507\n",
      "  >> Model saved to /home/orhankocak_0233/MLProject_570/models/lstm.pt (val_loss improved)\n",
      "Epoch 4/50  Train Loss: 15505.6943  Val Loss: 15240.1250  Val MSE: 15240.1260  Val R2: -1.6504\n",
      "  >> Model saved to /home/orhankocak_0233/MLProject_570/models/lstm.pt (val_loss improved)\n",
      "Epoch 5/50  Train Loss: 15504.0098  Val Loss: 15238.3086  Val MSE: 15238.3076  Val R2: -1.6501\n",
      "  >> Model saved to /home/orhankocak_0233/MLProject_570/models/lstm.pt (val_loss improved)\n",
      "Epoch 6/50  Train Loss: 15502.0977  Val Loss: 15236.2100  Val MSE: 15236.2080  Val R2: -1.6497\n",
      "  >> Model saved to /home/orhankocak_0233/MLProject_570/models/lstm.pt (val_loss improved)\n",
      "Epoch 7/50  Train Loss: 15499.9199  Val Loss: 15233.8760  Val MSE: 15233.8750  Val R2: -1.6493\n",
      "  >> Model saved to /home/orhankocak_0233/MLProject_570/models/lstm.pt (val_loss improved)\n",
      "Epoch 8/50  Train Loss: 15497.4756  Val Loss: 15231.2490  Val MSE: 15231.2500  Val R2: -1.6488\n",
      "  >> Model saved to /home/orhankocak_0233/MLProject_570/models/lstm.pt (val_loss improved)\n",
      "Epoch 9/50  Train Loss: 15494.7275  Val Loss: 15228.3086  Val MSE: 15228.3086  Val R2: -1.6483\n",
      "  >> Model saved to /home/orhankocak_0233/MLProject_570/models/lstm.pt (val_loss improved)\n",
      "Epoch 10/50  Train Loss: 15491.6533  Val Loss: 15225.0215  Val MSE: 15225.0234  Val R2: -1.6478\n",
      "  >> Model saved to /home/orhankocak_0233/MLProject_570/models/lstm.pt (val_loss improved)\n",
      "Epoch 11/50  Train Loss: 15488.2246  Val Loss: 15221.3623  Val MSE: 15221.3623  Val R2: -1.6471\n",
      "  >> Model saved to /home/orhankocak_0233/MLProject_570/models/lstm.pt (val_loss improved)\n",
      "Epoch 12/50  Train Loss: 15484.4150  Val Loss: 15217.2969  Val MSE: 15217.2969  Val R2: -1.6464\n",
      "  >> Model saved to /home/orhankocak_0233/MLProject_570/models/lstm.pt (val_loss improved)\n",
      "Epoch 13/50  Train Loss: 15480.1934  Val Loss: 15212.7939  Val MSE: 15212.7930  Val R2: -1.6456\n",
      "  >> Model saved to /home/orhankocak_0233/MLProject_570/models/lstm.pt (val_loss improved)\n",
      "Epoch 14/50  Train Loss: 15475.5352  Val Loss: 15207.8213  Val MSE: 15207.8213  Val R2: -1.6448\n",
      "  >> Model saved to /home/orhankocak_0233/MLProject_570/models/lstm.pt (val_loss improved)\n",
      "Epoch 15/50  Train Loss: 15470.4023  Val Loss: 15202.3457  Val MSE: 15202.3457  Val R2: -1.6438\n",
      "  >> Model saved to /home/orhankocak_0233/MLProject_570/models/lstm.pt (val_loss improved)\n",
      "Epoch 16/50  Train Loss: 15464.7715  Val Loss: 15196.3350  Val MSE: 15196.3369  Val R2: -1.6428\n",
      "  >> Model saved to /home/orhankocak_0233/MLProject_570/models/lstm.pt (val_loss improved)\n",
      "Epoch 17/50  Train Loss: 15458.6104  Val Loss: 15189.7588  Val MSE: 15189.7588  Val R2: -1.6416\n",
      "  >> Model saved to /home/orhankocak_0233/MLProject_570/models/lstm.pt (val_loss improved)\n",
      "Epoch 18/50  Train Loss: 15451.8916  Val Loss: 15182.5840  Val MSE: 15182.5840  Val R2: -1.6404\n",
      "  >> Model saved to /home/orhankocak_0233/MLProject_570/models/lstm.pt (val_loss improved)\n",
      "Epoch 19/50  Train Loss: 15444.5859  Val Loss: 15174.7803  Val MSE: 15174.7803  Val R2: -1.6390\n",
      "  >> Model saved to /home/orhankocak_0233/MLProject_570/models/lstm.pt (val_loss improved)\n",
      "Epoch 20/50  Train Loss: 15436.6729  Val Loss: 15166.3232  Val MSE: 15166.3232  Val R2: -1.6375\n",
      "  >> Model saved to /home/orhankocak_0233/MLProject_570/models/lstm.pt (val_loss improved)\n",
      "Epoch 21/50  Train Loss: 15428.1250  Val Loss: 15157.1904  Val MSE: 15157.1895  Val R2: -1.6360\n",
      "  >> Model saved to /home/orhankocak_0233/MLProject_570/models/lstm.pt (val_loss improved)\n",
      "Epoch 22/50  Train Loss: 15418.9238  Val Loss: 15147.3613  Val MSE: 15147.3613  Val R2: -1.6343\n",
      "  >> Model saved to /home/orhankocak_0233/MLProject_570/models/lstm.pt (val_loss improved)\n",
      "Epoch 23/50  Train Loss: 15409.0518  Val Loss: 15136.8213  Val MSE: 15136.8203  Val R2: -1.6324\n",
      "  >> Model saved to /home/orhankocak_0233/MLProject_570/models/lstm.pt (val_loss improved)\n",
      "Epoch 24/50  Train Loss: 15398.5000  Val Loss: 15125.5615  Val MSE: 15125.5605  Val R2: -1.6305\n",
      "  >> Model saved to /home/orhankocak_0233/MLProject_570/models/lstm.pt (val_loss improved)\n",
      "Epoch 25/50  Train Loss: 15387.2598  Val Loss: 15113.5762  Val MSE: 15113.5752  Val R2: -1.6284\n",
      "  >> Model saved to /home/orhankocak_0233/MLProject_570/models/lstm.pt (val_loss improved)\n",
      "Epoch 26/50  Train Loss: 15375.3242  Val Loss: 15100.8643  Val MSE: 15100.8643  Val R2: -1.6262\n",
      "  >> Model saved to /home/orhankocak_0233/MLProject_570/models/lstm.pt (val_loss improved)\n",
      "Epoch 27/50  Train Loss: 15362.6992  Val Loss: 15087.4355  Val MSE: 15087.4346  Val R2: -1.6238\n",
      "  >> Model saved to /home/orhankocak_0233/MLProject_570/models/lstm.pt (val_loss improved)\n",
      "Epoch 28/50  Train Loss: 15349.3857  Val Loss: 15073.2988  Val MSE: 15073.2988  Val R2: -1.6214\n",
      "  >> Model saved to /home/orhankocak_0233/MLProject_570/models/lstm.pt (val_loss improved)\n",
      "Epoch 29/50  Train Loss: 15335.3975  Val Loss: 15058.4707  Val MSE: 15058.4707  Val R2: -1.6188\n",
      "  >> Model saved to /home/orhankocak_0233/MLProject_570/models/lstm.pt (val_loss improved)\n",
      "Epoch 30/50  Train Loss: 15320.7471  Val Loss: 15042.9736  Val MSE: 15042.9736  Val R2: -1.6161\n",
      "  >> Model saved to /home/orhankocak_0233/MLProject_570/models/lstm.pt (val_loss improved)\n",
      "Epoch 31/50  Train Loss: 15305.4531  Val Loss: 15026.8330  Val MSE: 15026.8330  Val R2: -1.6133\n",
      "  >> Model saved to /home/orhankocak_0233/MLProject_570/models/lstm.pt (val_loss improved)\n",
      "Epoch 32/50  Train Loss: 15289.5410  Val Loss: 15010.0771  Val MSE: 15010.0771  Val R2: -1.6104\n",
      "  >> Model saved to /home/orhankocak_0233/MLProject_570/models/lstm.pt (val_loss improved)\n",
      "Epoch 33/50  Train Loss: 15273.0371  Val Loss: 14992.7432  Val MSE: 14992.7422  Val R2: -1.6074\n",
      "  >> Model saved to /home/orhankocak_0233/MLProject_570/models/lstm.pt (val_loss improved)\n",
      "Epoch 34/50  Train Loss: 15255.9727  Val Loss: 14974.8633  Val MSE: 14974.8633  Val R2: -1.6043\n",
      "  >> Model saved to /home/orhankocak_0233/MLProject_570/models/lstm.pt (val_loss improved)\n",
      "Epoch 35/50  Train Loss: 15238.3760  Val Loss: 14956.4785  Val MSE: 14956.4785  Val R2: -1.6011\n",
      "  >> Model saved to /home/orhankocak_0233/MLProject_570/models/lstm.pt (val_loss improved)\n",
      "Epoch 36/50  Train Loss: 15220.2891  Val Loss: 14937.6270  Val MSE: 14937.6279  Val R2: -1.5978\n",
      "  >> Model saved to /home/orhankocak_0233/MLProject_570/models/lstm.pt (val_loss improved)\n",
      "Epoch 37/50  Train Loss: 15201.7432  Val Loss: 14918.3535  Val MSE: 14918.3545  Val R2: -1.5944\n",
      "  >> Model saved to /home/orhankocak_0233/MLProject_570/models/lstm.pt (val_loss improved)\n",
      "Epoch 38/50  Train Loss: 15182.7852  Val Loss: 14898.7041  Val MSE: 14898.7041  Val R2: -1.5910\n",
      "  >> Model saved to /home/orhankocak_0233/MLProject_570/models/lstm.pt (val_loss improved)\n",
      "Epoch 39/50  Train Loss: 15163.4521  Val Loss: 14878.7188  Val MSE: 14878.7178  Val R2: -1.5875\n",
      "  >> Model saved to /home/orhankocak_0233/MLProject_570/models/lstm.pt (val_loss improved)\n",
      "Epoch 40/50  Train Loss: 15143.7861  Val Loss: 14858.4434  Val MSE: 14858.4434  Val R2: -1.5840\n",
      "  >> Model saved to /home/orhankocak_0233/MLProject_570/models/lstm.pt (val_loss improved)\n",
      "Epoch 41/50  Train Loss: 15123.8311  Val Loss: 14837.9229  Val MSE: 14837.9238  Val R2: -1.5804\n",
      "  >> Model saved to /home/orhankocak_0233/MLProject_570/models/lstm.pt (val_loss improved)\n",
      "Epoch 42/50  Train Loss: 15103.6289  Val Loss: 14817.2041  Val MSE: 14817.2041  Val R2: -1.5768\n",
      "  >> Model saved to /home/orhankocak_0233/MLProject_570/models/lstm.pt (val_loss improved)\n",
      "Epoch 43/50  Train Loss: 15083.2227  Val Loss: 14796.3252  Val MSE: 14796.3262  Val R2: -1.5732\n",
      "  >> Model saved to /home/orhankocak_0233/MLProject_570/models/lstm.pt (val_loss improved)\n",
      "Epoch 44/50  Train Loss: 15062.6523  Val Loss: 14775.3311  Val MSE: 14775.3320  Val R2: -1.5696\n",
      "  >> Model saved to /home/orhankocak_0233/MLProject_570/models/lstm.pt (val_loss improved)\n",
      "Epoch 45/50  Train Loss: 15041.9600  Val Loss: 14754.2607  Val MSE: 14754.2607  Val R2: -1.5659\n",
      "  >> Model saved to /home/orhankocak_0233/MLProject_570/models/lstm.pt (val_loss improved)\n",
      "Epoch 46/50  Train Loss: 15021.1855  Val Loss: 14733.1533  Val MSE: 14733.1533  Val R2: -1.5622\n",
      "  >> Model saved to /home/orhankocak_0233/MLProject_570/models/lstm.pt (val_loss improved)\n",
      "Epoch 47/50  Train Loss: 15000.3623  Val Loss: 14712.0430  Val MSE: 14712.0439  Val R2: -1.5585\n",
      "  >> Model saved to /home/orhankocak_0233/MLProject_570/models/lstm.pt (val_loss improved)\n",
      "Epoch 48/50  Train Loss: 14979.5264  Val Loss: 14690.9619  Val MSE: 14690.9629  Val R2: -1.5549\n",
      "  >> Model saved to /home/orhankocak_0233/MLProject_570/models/lstm.pt (val_loss improved)\n",
      "Epoch 49/50  Train Loss: 14958.7129  Val Loss: 14669.9424  Val MSE: 14669.9424  Val R2: -1.5512\n",
      "  >> Model saved to /home/orhankocak_0233/MLProject_570/models/lstm.pt (val_loss improved)\n",
      "Epoch 50/50  Train Loss: 14937.9463  Val Loss: 14649.0098  Val MSE: 14649.0088  Val R2: -1.5476\n",
      "Training finished. Best epoch: 50 with val_loss=14649.0098\n",
      "== Son Performans Metrikleri ==\n",
      "mse: 14649.0087890625\n",
      "mae: 94.67637634277344\n",
      "r2: -1.5475826263427734\n"
     ]
    }
   ],
   "source": [
    "predictor = TrafficPredictor('lstm', sensors, X_STEP, Y_STEP)\n",
    "predictor.train(train_loader, val_loader, epochs=50, \n",
    "                save_path=PROJECT_ROOT.joinpath(\"models/lstm.pt\"), \n",
    "                save_optimizer=True)\n",
    "predictor.show()\n"
   ]
  }
 ],
 "metadata": {
  "kernelspec": {
   "display_name": ".venv",
   "language": "python",
   "name": "python3"
  },
  "language_info": {
   "codemirror_mode": {
    "name": "ipython",
    "version": 3
   },
   "file_extension": ".py",
   "mimetype": "text/x-python",
   "name": "python",
   "nbconvert_exporter": "python",
   "pygments_lexer": "ipython3",
   "version": "3.12.3"
  }
 },
 "nbformat": 4,
 "nbformat_minor": 5
}
