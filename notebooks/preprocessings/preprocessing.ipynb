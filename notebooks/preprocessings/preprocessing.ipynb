{
 "cells": [
  {
   "cell_type": "markdown",
   "metadata": {},
   "source": [
    "# HDF5 → Parquet Dönüşümü\n",
    "Bu notebook, HDF5 dosyasındaki bir dataset'i Parquet formatına dönüştürmek için örnek kullanım sunar."
   ]
  },
  {
   "cell_type": "code",
   "execution_count": null,
   "metadata": {},
   "outputs": [],
   "source": [
    "from pathlib import Path\n",
    "from src.utils.h5_utils import h5_to_parquet, list_h5_structure\n",
    "import pandas as pd\n",
    "import h5py\n",
    "from src import config\n"
   ]
  },
  {
   "cell_type": "markdown",
   "metadata": {},
   "source": [
    "## 1. HDF5 Dosya Yapısını İnceleyin\n",
    "Önce dosya içindeki veri yapısını keşfedin."
   ]
  },
  {
   "cell_type": "code",
   "execution_count": null,
   "metadata": {},
   "outputs": [],
   "source": [
    "h5_path = config.DATA_RAW / 'ornek.h5'  # HDF5 dosya yolunu güncelleyin\n",
    "list_h5_structure(h5_path)"
   ]
  },
  {
   "cell_type": "markdown",
   "metadata": {},
   "source": [
    "## 2. Dataset'i Parquet'e Dönüştürün\n",
    "Aşağıdaki örnekte, 'mygroup/mydataset' anahtarındaki veriler Parquet'e çevrilir. Kolon isimleri ve indeks sütunu opsiyoneldir. Büyük dosyalar için parça parça (chunk) okuma da yapılabilir."
   ]
  },
  {
   "cell_type": "code",
   "execution_count": null,
   "metadata": {},
   "outputs": [],
   "source": [
    "# Parametreleri dosyaniza gore degistirin\n",
    "h5_path = config.DATA_RAW / 'ornek.h5'\n",
    "parquet_path = config.DATA_PROCESSED / 'out/block0_values.parquet'\n",
    "dataset_key = 't/block0_values'\n",
    "timestamp_key = 't/axis1'\n",
    "sensor_key = 't/axis0'\n",
    "chunk_rows = None  # veya ornek 10000\n",
    "with h5py.File(h5_path, 'r') as f:\n",
    "    columns = f[sensor_key][:].astype(str).tolist()\n",
    "\n",
    "h5_to_parquet(\n",
    "    h5_path=h5_path,\n",
    "    parquet_path=parquet_path,\n",
    "    dataset_key=dataset_key,\n",
    "    timestamp_key=timestamp_key,\n",
    "    columns=columns,\n",
    "    chunk_rows=chunk_rows,\n",
    ")\n"
   ]
  },
  {
   "cell_type": "markdown",
   "metadata": {},
   "source": [
    "## 3. Parquet Dosyasını Kontrol Edin\n",
    "Dönüşüm sonrası Parquet dosyasını okuyup kontrol edebilirsiniz."
   ]
  },
  {
   "cell_type": "code",
   "execution_count": null,
   "metadata": {},
   "outputs": [],
   "source": [
    "df = pd.read_parquet(parquet_path)\n",
    "df.head()"
   ]
  }
 ],
 "metadata": {
  "kernelspec": {
   "display_name": "Python 3",
   "language": "python",
   "name": "python3"
  },
  "language_info": {
   "name": "python",
   "version": "3.8"
  }
 },
 "nbformat": 4,
 "nbformat_minor": 2
}